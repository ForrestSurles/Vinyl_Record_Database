{
 "cells": [
  {
   "cell_type": "markdown",
   "metadata": {},
   "source": [
    "# <font color=Salmon>Imports</font>"
   ]
  },
  {
   "cell_type": "code",
   "execution_count": null,
   "metadata": {},
   "outputs": [],
   "source": [
    "import pandas as pd\n",
    "import sqlalchemy as sql\n",
    "from pathlib import Path"
   ]
  },
  {
   "cell_type": "markdown",
   "metadata": {},
   "source": [
    "## <font color=LightBlue>Load CSV Data</font>"
   ]
  },
  {
   "cell_type": "code",
   "execution_count": null,
   "metadata": {},
   "outputs": [],
   "source": [
    "csv_path = Path('./database_start.csv')\n",
    "\n",
    "vinyl_df = pd.read_csv(\n",
    "    filepath_or_buffer = csv_path,\n",
    "    sep = ',',\n",
    "    na_values = '-',\n",
    "    header = 0,\n",
    "    index_col = False\n",
    "    )\n",
    "\n",
    "vinyl_df.head(10)"
   ]
  },
  {
   "cell_type": "markdown",
   "metadata": {},
   "source": [
    "### <font color=LightGreen>Clean CSV Data</font>"
   ]
  },
  {
   "cell_type": "code",
   "execution_count": null,
   "metadata": {},
   "outputs": [],
   "source": [
    "vinyl_df.dtypes"
   ]
  },
  {
   "cell_type": "code",
   "execution_count": null,
   "metadata": {},
   "outputs": [],
   "source": [
    "#Change column dtypes from 'object' to 'string'\n",
    "dtype_dict = {\n",
    "    'Album Name': 'string',\n",
    "    'Artist': 'string',\n",
    "    'Publisher': 'string',\n",
    "    'Format': 'category',\n",
    "    'Source': 'string',\n",
    "    'Genre': 'category',\n",
    "    'Notes': 'string'\n",
    "}\n",
    "\n",
    "vinyl_df = vinyl_df.astype(dtype_dict)\n",
    "vinyl_df.dtypes"
   ]
  },
  {
   "cell_type": "code",
   "execution_count": null,
   "metadata": {},
   "outputs": [],
   "source": [
    "'''NOTE:\n",
    "    Replaced by stipulating \"na_values='-'\"\n",
    "    when first importing csv data\n",
    "'''\n",
    "\n",
    "#Replace hyphens w/ pd.NA values\n",
    "#vinyl_df.replace('-', pd.NA, inplace=True)\n",
    "#vinyl_df"
   ]
  },
  {
   "cell_type": "markdown",
   "metadata": {},
   "source": [
    "## <font color=Gold>Summarize the Data</font>"
   ]
  },
  {
   "cell_type": "code",
   "execution_count": null,
   "metadata": {},
   "outputs": [],
   "source": [
    "vinyl_df.info()"
   ]
  },
  {
   "cell_type": "markdown",
   "metadata": {},
   "source": [
    "# <font color=Orange>Database</font>"
   ]
  },
  {
   "cell_type": "markdown",
   "metadata": {},
   "source": [
    "## <font color=Salmon>Create DB</font>"
   ]
  },
  {
   "cell_type": "code",
   "execution_count": null,
   "metadata": {},
   "outputs": [],
   "source": [
    "#Temporary sqlite database \n",
    "db_connection_string = 'sqlite:///vinyl_inventory.db'\n",
    "\n",
    "#Database connection object\n",
    "engine = sql.create_engine(db_connection_string)\n",
    "\n",
    "#Create inspector to observe changes in the database\n",
    "inspector = sql.inspect(engine)"
   ]
  },
  {
   "cell_type": "code",
   "execution_count": null,
   "metadata": {},
   "outputs": [],
   "source": [
    "#Confirm temporary database created by pulling table names.\n",
    "inspector.get_table_names()"
   ]
  },
  {
   "cell_type": "markdown",
   "metadata": {},
   "source": [
    "## <font color=LightBlue>Create DB Tables</font>"
   ]
  },
  {
   "cell_type": "markdown",
   "metadata": {},
   "source": [
    "### <font color=LightGreen>Create Unique Tables</font>"
   ]
  },
  {
   "cell_type": "markdown",
   "metadata": {},
   "source": [
    "    ***Not added to sqlite database yet.***"
   ]
  },
  {
   "cell_type": "code",
   "execution_count": null,
   "metadata": {},
   "outputs": [],
   "source": [
    "#Table of artist names\n",
    "artist_list = list(vinyl_df['Artist'].unique())\n",
    "artist_id = range(0, len(artist_list))\n",
    "\n",
    "artist_table = pd.DataFrame(\n",
    "    {\n",
    "        'artist_id': artist_id,\n",
    "        'artist': artist_list,\n",
    "    }\n",
    ")\n",
    "\n",
    "print(artist_table)"
   ]
  },
  {
   "cell_type": "code",
   "execution_count": null,
   "metadata": {},
   "outputs": [],
   "source": [
    "#Table of Years\n",
    "year_list = list(vinyl_df['Year'].unique())\n",
    "year_list.sort()\n",
    "\n",
    "year_id = range(0, len(year_list))\n",
    "\n",
    "year_table = pd.DataFrame(\n",
    "    {\n",
    "        'year_id': year_id,\n",
    "        'year': year_list\n",
    "    }\n",
    ")\n",
    "\n",
    "print(year_table)"
   ]
  },
  {
   "cell_type": "code",
   "execution_count": null,
   "metadata": {},
   "outputs": [],
   "source": [
    "#Table of publishers\n",
    "publisher_list = list(vinyl_df['Publisher'].unique())\n",
    "publisher_list.sort()\n",
    "\n",
    "publisher_id = range(0, len(publisher_list))\n",
    "\n",
    "publisher_table = pd.DataFrame(\n",
    "    {\n",
    "        'publisher_id': publisher_id,\n",
    "        'publisher': publisher_list\n",
    "    }\n",
    ")\n",
    "\n",
    "print(publisher_table)"
   ]
  },
  {
   "cell_type": "code",
   "execution_count": null,
   "metadata": {},
   "outputs": [],
   "source": [
    "#Table of vinyl record formats\n",
    "#Different technique for adding an id column as first column\n",
    "format_list = list(vinyl_df['Format'].unique())\n",
    "format_table = pd.DataFrame(format_list, columns=['vinyl_format'])\n",
    "format_table['format_id'] = format_table.index\n",
    "format_table = format_table[['format_id', 'vinyl_format']]\n",
    "format_table"
   ]
  },
  {
   "cell_type": "code",
   "execution_count": null,
   "metadata": {},
   "outputs": [],
   "source": [
    "#Table of sources\n",
    "source_list = list(vinyl_df['Source'].unique())\n",
    "source_list[0] = 'salvatierra'\n",
    "source_list[4] = 'forrest'\n",
    "source_list[6] = 'ryan_stowe'\n",
    "\n",
    "source_id = range(0, len(source_list))\n",
    "\n",
    "source_table = pd.DataFrame(\n",
    "    {\n",
    "        'source_id': source_id,\n",
    "        'source': source_list\n",
    "    }\n",
    ")\n",
    "\n",
    "print(source_table)"
   ]
  },
  {
   "cell_type": "code",
   "execution_count": null,
   "metadata": {},
   "outputs": [],
   "source": [
    "#Table of genres\n",
    "genre_list = list(vinyl_df['Genre'].unique())\n",
    "genre_id = range(0, len(genre_list))\n",
    "genre_table = pd.DataFrame(\n",
    "    {\n",
    "        'genre_id': genre_id,\n",
    "        'album_genre': genre_list\n",
    "    }\n",
    ")\n",
    "\n",
    "print(genre_table)"
   ]
  },
  {
   "cell_type": "markdown",
   "metadata": {},
   "source": [
    "### <font color=LightGreen>Add Tables to Database</font>"
   ]
  },
  {
   "cell_type": "code",
   "execution_count": null,
   "metadata": {},
   "outputs": [],
   "source": [
    "#Add the tables to the sqlite database\n",
    "artist_table.to_sql('artist', engine, index=False, if_exists='replace')\n",
    "year_table.to_sql('release_year', engine, index=False, if_exists='replace')\n",
    "publisher_table.to_sql('publisher', engine, index=False, if_exists='replace')\n",
    "format_table.to_sql('vinyl_format', engine, index=False, if_exists='replace')\n",
    "source_table.to_sql('source', engine, index=False, if_exists='replace')\n",
    "genre_table.to_sql('note', engine, index=False, if_exists='replace')"
   ]
  },
  {
   "cell_type": "code",
   "execution_count": null,
   "metadata": {},
   "outputs": [],
   "source": [
    "#Verify tables were imported\n",
    "print(sql.inspect(engine).get_table_names())"
   ]
  },
  {
   "cell_type": "markdown",
   "metadata": {},
   "source": [
    "### <font color=LightGreen>Normalize Primary Table</font>"
   ]
  },
  {
   "cell_type": "code",
   "execution_count": null,
   "metadata": {},
   "outputs": [],
   "source": [
    "#Add primary key as album_id\n",
    "album_id_list = list(vinyl_df.index)\n",
    "vinyl_df['album_id'] = album_id_list \n",
    "vinyl_df = vinyl_df[\n",
    "    [\n",
    "        'album_id',\n",
    "        'Album Name',\n",
    "        'Artist',\n",
    "        'Year',\n",
    "        'Publisher',\n",
    "        'Format',\n",
    "        'Source',\n",
    "        'Genre',\n",
    "        'Notes'\n",
    "    ]\n",
    "]\n",
    "\n",
    "vinyl_df"
   ]
  },
  {
   "cell_type": "code",
   "execution_count": null,
   "metadata": {},
   "outputs": [],
   "source": [
    "artist_dict = dict(zip(artist_table['artist'], artist_table['artist_id']))\n",
    "year_dict = dict(zip(year_table['year'], year_table['year_id']))\n",
    "publisher_dict = dict(zip(publisher_table['publisher'], publisher_table['publisher_id']))\n",
    "format_dict = dict(zip(format_table['vinyl_format'], format_table['format_id']))\n",
    "source_dict = dict(zip(source_table['source'], source_table['source_id']))\n",
    "genre_dict = dict(zip(genre_table['album_genre'], genre_table['genre_id']))\n",
    "\n",
    "norm_dict = artist_dict\n",
    "norm_dict.update(year_dict)\n",
    "norm_dict.update(publisher_dict)\n",
    "norm_dict.update(format_dict)\n",
    "norm_dict.update(source_dict)\n",
    "norm_dict.update(genre_dict)"
   ]
  },
  {
   "cell_type": "code",
   "execution_count": null,
   "metadata": {},
   "outputs": [],
   "source": [
    "test_df = vinyl_df\n",
    "\n",
    "\"\"\"\n",
    "test_df.replace(artist_dict, inplace=True)\n",
    "test_df.replace(year_dict, inplace=True)\n",
    "test_df.replace(publisher_dict, inplace=True)\n",
    "test_df.replace(format_dict, inplace=True)\n",
    "test_df.replace(source_dict, inplace=True)\n",
    "test_df.replace(genre_dict, inplace=True)\n",
    "\"\"\"\n",
    "\n",
    "test_df.replace(norm_dict, inplace=True)\n",
    "test_df"
   ]
  },
  {
   "cell_type": "code",
   "execution_count": null,
   "metadata": {},
   "outputs": [],
   "source": [
    "test_df.Notes.unique()"
   ]
  },
  {
   "cell_type": "code",
   "execution_count": null,
   "metadata": {},
   "outputs": [],
   "source": [
    "#TODO:\n",
    "# 1) organize column order\n",
    "# 2) set indexes to id values in tables sent 'to_sql'\n",
    "# 3) in notes, change all 1 values to NA"
   ]
  }
 ],
 "metadata": {
  "interpreter": {
   "hash": "27e30c8380e3cd5b7b2e2a1f4f6788d8482aafb0458ea11705bcecde368c8b09"
  },
  "kernelspec": {
   "display_name": "Python 3.8.8 ('SQL')",
   "language": "python",
   "name": "python3"
  },
  "language_info": {
   "codemirror_mode": {
    "name": "ipython",
    "version": 3
   },
   "file_extension": ".py",
   "mimetype": "text/x-python",
   "name": "python",
   "nbconvert_exporter": "python",
   "pygments_lexer": "ipython3",
   "version": "3.8.8"
  },
  "orig_nbformat": 4
 },
 "nbformat": 4,
 "nbformat_minor": 2
}
