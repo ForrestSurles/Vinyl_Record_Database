{
 "cells": [
  {
   "cell_type": "markdown",
   "metadata": {},
   "source": [
    "# <font color=Salmon>Imports</font>"
   ]
  },
  {
   "cell_type": "code",
   "execution_count": null,
   "metadata": {},
   "outputs": [],
   "source": [
    "import pandas as pd\n",
    "import sqlalchemy as sql\n",
    "from pathlib import Path"
   ]
  },
  {
   "cell_type": "markdown",
   "metadata": {},
   "source": [
    "## <font color=LightBlue>Load CSV Data</font>"
   ]
  },
  {
   "cell_type": "code",
   "execution_count": null,
   "metadata": {},
   "outputs": [],
   "source": [
    "csv_path = Path('./database_start.csv')\n",
    "\n",
    "vinyl_df = pd.read_csv(\n",
    "    filepath_or_buffer = csv_path,\n",
    "    sep = ',',\n",
    "    na_values = '-',\n",
    "    header = 0,\n",
    "    index_col = False\n",
    "    )\n",
    "\n",
    "vinyl_df.head(10)"
   ]
  },
  {
   "cell_type": "markdown",
   "metadata": {},
   "source": [
    "### <font color=LightGreen>Clean CSV Data</font>"
   ]
  },
  {
   "cell_type": "code",
   "execution_count": null,
   "metadata": {},
   "outputs": [],
   "source": [
    "vinyl_df.dtypes"
   ]
  },
  {
   "cell_type": "code",
   "execution_count": null,
   "metadata": {},
   "outputs": [],
   "source": [
    "#Change column dtypes from 'object' to 'string'\n",
    "dtype_dict = {\n",
    "    'Album Name': 'string',\n",
    "    'Artist': 'string',\n",
    "    'Publisher': 'string',\n",
    "    'Format': 'category',\n",
    "    'Source': 'string',\n",
    "    'Genre': 'category',\n",
    "    'Notes': 'string'\n",
    "}\n",
    "\n",
    "vinyl_df = vinyl_df.astype(dtype_dict)\n",
    "vinyl_df.dtypes"
   ]
  },
  {
   "cell_type": "code",
   "execution_count": null,
   "metadata": {},
   "outputs": [],
   "source": [
    "'''NOTE:\n",
    "    Replaced by stipulating \"na_values='-'\"\n",
    "    when first importing csv data\n",
    "'''\n",
    "\n",
    "#Replace hyphens w/ pd.NA values\n",
    "#vinyl_df.replace('-', pd.NA, inplace=True)\n",
    "#vinyl_df"
   ]
  }
 ],
 "metadata": {
  "interpreter": {
   "hash": "27e30c8380e3cd5b7b2e2a1f4f6788d8482aafb0458ea11705bcecde368c8b09"
  },
  "kernelspec": {
   "display_name": "Python 3.8.8 ('SQL')",
   "language": "python",
   "name": "python3"
  },
  "language_info": {
   "codemirror_mode": {
    "name": "ipython",
    "version": 3
   },
   "file_extension": ".py",
   "mimetype": "text/x-python",
   "name": "python",
   "nbconvert_exporter": "python",
   "pygments_lexer": "ipython3",
   "version": "3.8.8"
  },
  "orig_nbformat": 4
 },
 "nbformat": 4,
 "nbformat_minor": 2
}
