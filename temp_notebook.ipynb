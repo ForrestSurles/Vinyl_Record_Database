{
 "cells": [
  {
   "cell_type": "code",
   "execution_count": 1,
   "metadata": {},
   "outputs": [],
   "source": [
    "import pandas as pd\n",
    "import sqlalchemy as sql\n",
    "from pathlib import Path"
   ]
  },
  {
   "cell_type": "code",
   "execution_count": 2,
   "metadata": {},
   "outputs": [
    {
     "data": {
      "text/plain": [
       "Engine(sqlite:///vinyl_inventory.db)"
      ]
     },
     "execution_count": 2,
     "metadata": {},
     "output_type": "execute_result"
    }
   ],
   "source": [
    "db_string = 'sqlite:///vinyl_inventory.db'\n",
    "engine = sql.create_engine(db_string)\n",
    "engine"
   ]
  },
  {
   "cell_type": "code",
   "execution_count": 3,
   "metadata": {},
   "outputs": [
    {
     "data": {
      "text/plain": [
       "['artist', 'note', 'publisher', 'release_year', 'source', 'vinyl_format']"
      ]
     },
     "execution_count": 3,
     "metadata": {},
     "output_type": "execute_result"
    }
   ],
   "source": [
    "sql.inspect(engine).get_table_names()"
   ]
  },
  {
   "cell_type": "code",
   "execution_count": 5,
   "metadata": {},
   "outputs": [
    {
     "name": "stdout",
     "output_type": "stream",
     "text": [
      "    year_id  year\n",
      "0         0  1945\n",
      "1         1  1950\n",
      "2         2  1954\n",
      "3         3  1955\n",
      "4         4  1956\n",
      "5         5  1957\n",
      "6         6  1958\n",
      "7         7  1959\n",
      "8         8  1960\n",
      "9         9  1961\n",
      "10       10  1963\n",
      "11       11  1964\n",
      "12       12  1965\n",
      "13       13  1966\n",
      "14       14  1967\n",
      "15       15  1968\n",
      "16       16  1969\n",
      "17       17  1970\n",
      "18       18  1971\n",
      "19       19  1972\n",
      "20       20  1973\n",
      "21       21  1974\n",
      "22       22  1975\n",
      "23       23  1976\n",
      "24       24  1977\n",
      "25       25  1978\n",
      "26       26  1979\n",
      "27       27  1980\n",
      "28       28  1981\n",
      "29       29  1982\n",
      "30       30  1983\n",
      "31       31  1984\n",
      "32       32  1985\n",
      "33       33  2012\n",
      "34       34  2013\n",
      "35       35  2014\n",
      "36       36  2016\n"
     ]
    }
   ],
   "source": [
    "df = pd.read_sql_table('release_year', con=engine)\n",
    "print(df)"
   ]
  },
  {
   "cell_type": "code",
   "execution_count": null,
   "metadata": {},
   "outputs": [],
   "source": []
  }
 ],
 "metadata": {
  "interpreter": {
   "hash": "27e30c8380e3cd5b7b2e2a1f4f6788d8482aafb0458ea11705bcecde368c8b09"
  },
  "kernelspec": {
   "display_name": "Python 3.8.8 ('SQL')",
   "language": "python",
   "name": "python3"
  },
  "language_info": {
   "codemirror_mode": {
    "name": "ipython",
    "version": 3
   },
   "file_extension": ".py",
   "mimetype": "text/x-python",
   "name": "python",
   "nbconvert_exporter": "python",
   "pygments_lexer": "ipython3",
   "version": "3.8.8"
  },
  "orig_nbformat": 4
 },
 "nbformat": 4,
 "nbformat_minor": 2
}
